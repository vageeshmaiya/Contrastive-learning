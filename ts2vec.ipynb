{
  "nbformat": 4,
  "nbformat_minor": 0,
  "metadata": {
    "colab": {
      "name": "Copy of ts2vec.ipynb",
      "provenance": [],
      "collapsed_sections": [],
      "include_colab_link": true
    },
    "kernelspec": {
      "name": "python3",
      "display_name": "Python 3"
    },
    "language_info": {
      "name": "python"
    },
    "accelerator": "GPU"
  },
  "cells": [
    {
      "cell_type": "markdown",
      "metadata": {
        "id": "view-in-github",
        "colab_type": "text"
      },
      "source": [
        "<a href=\"https://colab.research.google.com/github/vageeshmaiya/TS2Vec/blob/main/ts2vec.ipynb\" target=\"_parent\"><img src=\"https://colab.research.google.com/assets/colab-badge.svg\" alt=\"Open In Colab\"/></a>"
      ]
    },
    {
      "cell_type": "markdown",
      "source": [
        "# **TS2Vec**"
      ],
      "metadata": {
        "id": "iRvMptCcqmSj"
      }
    },
    {
      "cell_type": "markdown",
      "source": [
        "#### **Note**\n",
        "\n",
        "Set the runtime to GPU before running the code.\n"
      ],
      "metadata": {
        "id": "1Qiu5sRP1QW0"
      }
    },
    {
      "cell_type": "markdown",
      "source": [
        "##### **Steps to set the runtime to GPU**:\n",
        "1. Click on the `Runtime` option displayed on the menu above.\n",
        "2. Click on the `Change runtime type` option\n",
        "3. Under `Hardware acclerators` choose GPU(if not already set) and click save."
      ],
      "metadata": {
        "id": "1hXuT-eO1fYe"
      }
    },
    {
      "cell_type": "markdown",
      "source": [
        "### **1. Mounting the drive**"
      ],
      "metadata": {
        "id": "fL2buZX7qu7U"
      }
    },
    {
      "cell_type": "code",
      "execution_count": null,
      "metadata": {
        "colab": {
          "base_uri": "https://localhost:8080/"
        },
        "id": "nrDW0uzjK-BY",
        "outputId": "deabc78a-3ec0-4a20-84b6-763388735c1f"
      },
      "outputs": [
        {
          "output_type": "stream",
          "name": "stdout",
          "text": [
            "Drive already mounted at /content/drive; to attempt to forcibly remount, call drive.mount(\"/content/drive\", force_remount=True).\n"
          ]
        }
      ],
      "source": [
        "from google.colab import drive\n",
        "drive.mount('/content/drive')"
      ]
    },
    {
      "cell_type": "markdown",
      "source": [
        "### **2. Changing Directory path**"
      ],
      "metadata": {
        "id": "rT8Hd3S1raPO"
      }
    },
    {
      "cell_type": "markdown",
      "source": [
        "##### **Steps To Follow**\n",
        "\n",
        "1. Once the drive has been mounted go to the folder icon visible on the left hand side.\n",
        "\n",
        "2. Click on the drive folder.\n",
        "\n",
        "3. There find the folder containing the `train.py` file.\n",
        "\n",
        "4. Right click on the folder and select the copy path option.\n",
        "\n",
        "5. Make sure to copy and paste the path of the folder containing the `train.py` file in the code below. \n",
        "\n",
        "6. The path of the folder in the code below is: `%cd /content/drive/MyDrive/ts2vec/ts2vec-main.zip (Unzipped Files)/ts2vec-main`"
      ],
      "metadata": {
        "id": "-GwTkgRlr1mF"
      }
    },
    {
      "cell_type": "code",
      "source": [
        "%cd /content/drive/MyDrive/ts2vec/ts2vec-main.zip (Unzipped Files)/ts2vec-main\n",
        "!ls"
      ],
      "metadata": {
        "id": "a0KGVNh4VvAf"
      },
      "execution_count": null,
      "outputs": []
    },
    {
      "cell_type": "markdown",
      "source": [
        "### **3. Installing Requirements**"
      ],
      "metadata": {
        "id": "k1QWnOb6tnGF"
      }
    },
    {
      "cell_type": "code",
      "source": [
        "pip install -r requirements.txt"
      ],
      "metadata": {
        "colab": {
          "base_uri": "https://localhost:8080/"
        },
        "id": "5ofONBC_VvD3",
        "outputId": "fc06ec96-c1ef-46bd-f4b1-d2743032e852"
      },
      "execution_count": null,
      "outputs": [
        {
          "output_type": "stream",
          "name": "stdout",
          "text": [
            "Requirement already satisfied: Bottleneck==1.3.2 in /usr/local/lib/python3.7/dist-packages (from -r requirements.txt (line 1)) (1.3.2)\n",
            "Requirement already satisfied: torch==1.8.1 in /usr/local/lib/python3.7/dist-packages (from -r requirements.txt (line 2)) (1.8.1)\n",
            "Requirement already satisfied: scipy==1.6.1 in /usr/local/lib/python3.7/dist-packages (from -r requirements.txt (line 3)) (1.6.1)\n",
            "Requirement already satisfied: numpy==1.19.2 in /usr/local/lib/python3.7/dist-packages (from -r requirements.txt (line 4)) (1.19.2)\n",
            "Requirement already satisfied: statsmodels==0.12.2 in /usr/local/lib/python3.7/dist-packages (from -r requirements.txt (line 5)) (0.12.2)\n",
            "Requirement already satisfied: pandas==1.0.1 in /usr/local/lib/python3.7/dist-packages (from -r requirements.txt (line 6)) (1.0.1)\n",
            "Requirement already satisfied: scikit_learn==0.24.2 in /usr/local/lib/python3.7/dist-packages (from -r requirements.txt (line 7)) (0.24.2)\n",
            "Requirement already satisfied: typing-extensions in /usr/local/lib/python3.7/dist-packages (from torch==1.8.1->-r requirements.txt (line 2)) (3.10.0.2)\n",
            "Requirement already satisfied: patsy>=0.5 in /usr/local/lib/python3.7/dist-packages (from statsmodels==0.12.2->-r requirements.txt (line 5)) (0.5.2)\n",
            "Requirement already satisfied: python-dateutil>=2.6.1 in /usr/local/lib/python3.7/dist-packages (from pandas==1.0.1->-r requirements.txt (line 6)) (2.8.2)\n",
            "Requirement already satisfied: pytz>=2017.2 in /usr/local/lib/python3.7/dist-packages (from pandas==1.0.1->-r requirements.txt (line 6)) (2018.9)\n",
            "Requirement already satisfied: threadpoolctl>=2.0.0 in /usr/local/lib/python3.7/dist-packages (from scikit_learn==0.24.2->-r requirements.txt (line 7)) (3.1.0)\n",
            "Requirement already satisfied: joblib>=0.11 in /usr/local/lib/python3.7/dist-packages (from scikit_learn==0.24.2->-r requirements.txt (line 7)) (1.1.0)\n",
            "Requirement already satisfied: six in /usr/local/lib/python3.7/dist-packages (from patsy>=0.5->statsmodels==0.12.2->-r requirements.txt (line 5)) (1.15.0)\n"
          ]
        }
      ]
    },
    {
      "cell_type": "markdown",
      "source": [
        "### **4. Running the main code**"
      ],
      "metadata": {
        "id": "ar8raqNKx4Cw"
      }
    },
    {
      "cell_type": "code",
      "source": [
        "#To better understand the code line below refer to the github repository.\n",
        "!python -u train.py trial epochs_6_cc --epochs 6 --loader forecast_csv_univar --max-threads 8 --seed 42 --eval"
      ],
      "metadata": {
        "colab": {
          "base_uri": "https://localhost:8080/"
        },
        "id": "CHwVhZd0VvF-",
        "outputId": "9c87a3ae-f8fc-4050-db45-d9a6463fbc5f"
      },
      "execution_count": null,
      "outputs": [
        {
          "output_type": "stream",
          "name": "stdout",
          "text": [
            "Dataset: trial\n",
            "Arguments: Namespace(batch_size=32, dataset='trial', epochs=6, eval=True, gpu=0, irregular=0, iters=None, loader='forecast_csv_univar', lr=0.0001, max_threads=8, max_train_length=3000, repr_dims=320, run_name='epochs_6_cc', save_every=None, seed=42)\n",
            "Loading data...                       Voltage  ChargeCapacity\n",
            "date                                         \n",
            "2018-06-21 20:21:00  3.576402         0.00000\n",
            "2018-06-21 20:23:00  3.575814         0.00000\n",
            "2018-06-21 20:25:00  3.575203         0.00000\n",
            "2018-06-21 20:27:00  3.574510         0.00000\n",
            "2018-06-21 20:29:00  3.573856         0.00000\n",
            "...                       ...             ...\n",
            "2018-06-24 04:21:00  2.999990         0.98180\n",
            "2018-06-24 04:23:00  3.864067         0.98180\n",
            "2018-06-24 04:25:00  3.883207         0.98180\n",
            "2018-06-24 04:27:00  3.887362         0.98180\n",
            "2018-06-24 04:29:00  4.200016         0.00763\n",
            "\n",
            "[1685 rows x 2 columns]\n",
            "[[0.        ]\n",
            " [0.        ]\n",
            " [0.        ]\n",
            " ...\n",
            " [0.98179996]\n",
            " [0.98179996]\n",
            " [0.00763049]]\n",
            "done\n",
            "Epoch #0: loss=6.711305141448975\n",
            "Epoch #1: loss=2.3654584884643555\n",
            "Epoch #2: loss=5.317868709564209\n",
            "Epoch #3: loss=3.3575665950775146\n",
            "Epoch #4: loss=4.253687858581543\n",
            "Epoch #5: loss=4.215598106384277\n",
            "\n",
            "Training time: 0:00:02.697054\n",
            "\n",
            "all repr\n",
            "(1, 1685, 320)\n",
            "..............\n",
            "[[[-0.52702457 -0.843437    0.34826764 ... -0.04262117 -0.3042379\n",
            "   -0.5261057 ]\n",
            "  [-0.5485423  -0.87649155  0.4034399  ... -0.04510254 -0.30976728\n",
            "   -0.52515095]\n",
            "  [-0.5774821  -0.9215053   0.43671098 ... -0.09122717 -0.26794147\n",
            "   -0.5134676 ]\n",
            "  ...\n",
            "  [ 0.33651468  1.5295298  -0.60064995 ... -0.18416403  0.16895635\n",
            "    0.9546303 ]\n",
            "  [ 0.34908682  1.5194408  -0.5840497  ... -0.18112235  0.1696612\n",
            "    0.95726   ]\n",
            "  [ 0.21494539  1.5860422  -0.12508193 ... -0.15676168 -0.00226966\n",
            "    1.0801274 ]]]\n",
            "..............\n",
            "Evaluation result: {'ours': {24: {'norm': {'MSE': 0.5476221797250681, 'MAE': 0.5157538873579494}, 'raw': {'MSE': 0.11155264606051081, 'MAE': 0.2327780001144416}}, 48: {'norm': {'MSE': 0.6689732851933405, 'MAE': 0.5820271790068697}, 'raw': {'MSE': 0.1362723115219788, 'MAE': 0.26268948464009606}}, 96: {'norm': {'MSE': 0.4154158740118738, 'MAE': 0.4593769350468455}, 'raw': {'MSE': 0.08462173719773375, 'MAE': 0.20733308531164127}}, 120: {'norm': {'MSE': 0.37374007021473393, 'MAE': 0.4581581582774485}, 'raw': {'MSE': 0.07613222285515756, 'MAE': 0.2067830077839115}}, 168: {'norm': {'MSE': 0.32509580523945425, 'MAE': 0.41556812841824703}, 'raw': {'MSE': 0.06622320808745416, 'MAE': 0.18756061928455486}}}, 'ts2vec_infer_time': 0.6068465709686279, 'lr_train_time': {24: 0.22141242027282715, 48: 0.1440882682800293, 96: 0.13443922996520996, 120: 0.27382564544677734, 168: 0.21537232398986816}, 'lr_infer_time': {24: 0.0014643669128417969, 48: 0.0007331371307373047, 96: 0.0006127357482910156, 120: 0.0014050006866455078, 168: 0.0006966590881347656}}\n",
            "Finished.\n"
          ]
        }
      ]
    },
    {
      "cell_type": "markdown",
      "source": [
        "### **5. Obtaining the pickel file**"
      ],
      "metadata": {
        "id": "6jOIWyuWG4E3"
      }
    },
    {
      "cell_type": "code",
      "source": [
        "import pickle"
      ],
      "metadata": {
        "id": "FkdOPwpCJP3v"
      },
      "execution_count": null,
      "outputs": []
    },
    {
      "cell_type": "markdown",
      "source": [
        "##### **Steps to load the output pickle file**\n",
        "1. Once the main code is run a new folder named `training` will be created(if not present previously) in the same location where `train.py` script is present.\n",
        "2. The output folder obtained on execution of the main code is stored in the training folder under the given `run_name`.\n",
        "3. The model prediction is in the form of a pickel file with the name `out.pkl` and is stored in the output folder.\n",
        "4. Copy the path of the `out.pkl` file and paste it in the code below.\n",
        "5. The path of the path of output pickel file considered below is : `/content/drive/MyDrive/ts2vec/ts2vec-main.zip (Unzipped Files)/ts2vec-main/training/trial__epochs_6_cc_20220322_115557/out.pkl`"
      ],
      "metadata": {
        "id": "URkT7sCwHAj_"
      }
    },
    {
      "cell_type": "code",
      "source": [
        "with open('/content/drive/MyDrive/ts2vec/ts2vec-main.zip (Unzipped Files)/ts2vec-main/training/trial__epochs_6_cc_20220322_115557/out.pkl', 'rb') as f:\n",
        "    data = pickle.load(f)"
      ],
      "metadata": {
        "id": "eQP9ck0vCyxT"
      },
      "execution_count": null,
      "outputs": []
    },
    {
      "cell_type": "markdown",
      "source": [
        "##### **Converting the pickel output into dataframe**\n"
      ],
      "metadata": {
        "id": "9MubYDpYLGzN"
      }
    },
    {
      "cell_type": "code",
      "source": [
        "import pandas as pd\n",
        "df1 = pd.DataFrame.from_dict(data)"
      ],
      "metadata": {
        "id": "fy-MarziJYpu"
      },
      "execution_count": null,
      "outputs": []
    },
    {
      "cell_type": "code",
      "source": [
        "df1"
      ],
      "metadata": {
        "colab": {
          "base_uri": "https://localhost:8080/",
          "height": 358
        },
        "id": "CCpbzI8wENjl",
        "outputId": "76eac02c-38de-4f1e-a952-30eff89b35a6"
      },
      "execution_count": null,
      "outputs": [
        {
          "output_type": "execute_result",
          "data": {
            "text/plain": [
              "                                                       24   \\\n",
              "norm     [[[[0.0405426], [0.0703876], [0.24437022], [0....   \n",
              "raw      [[[[0.8428376], [0.8563077], [0.9348322], [0.9...   \n",
              "norm_gt  [[[[0.08223983], [0.15032339], [0.21431603], [...   \n",
              "raw_gt   [[[[0.86165702], [0.89238554], [0.92126769], [...   \n",
              "\n",
              "                                                       48   \\\n",
              "norm     [[[[-0.03582752], [-0.02180314], [0.05204654],...   \n",
              "raw      [[[[0.80836904], [0.81469876], [0.84802973], [...   \n",
              "norm_gt  [[[[0.08223983], [0.15032339], [0.21431603], [...   \n",
              "raw_gt   [[[[0.86165702], [0.89238554], [0.92126769], [...   \n",
              "\n",
              "                                                       96   \\\n",
              "norm     [[[[-0.00047421], [0.09481859], [0.19006634], ...   \n",
              "raw      [[[[0.82432526], [0.86733425], [0.91032296], [...   \n",
              "norm_gt  [[[[0.08223983], [0.15032339], [0.21431603], [...   \n",
              "raw_gt   [[[[0.86165702], [0.89238554], [0.92126769], [...   \n",
              "\n",
              "                                                       120  \\\n",
              "norm     [[[[-0.05557466], [-0.00856727], [0.04173517],...   \n",
              "raw      [[[[0.7994565], [0.8206726], [0.84337586], [0....   \n",
              "norm_gt  [[[[0.08223983], [0.15032339], [0.21431603], [...   \n",
              "raw_gt   [[[[0.86165702], [0.89238554], [0.92126769], [...   \n",
              "\n",
              "                                                       168  \n",
              "norm     [[[[-0.05636856], [0.00884247], [0.05408931], ...  \n",
              "raw      [[[[0.79909813], [0.8285302], [0.8489517], [0....  \n",
              "norm_gt  [[[[0.08223983], [0.15032339], [0.21431603], [...  \n",
              "raw_gt   [[[[0.86165702], [0.89238554], [0.92126769], [...  "
            ],
            "text/html": [
              "\n",
              "  <div id=\"df-eda76e16-5961-4db8-81c3-87b97959daae\">\n",
              "    <div class=\"colab-df-container\">\n",
              "      <div>\n",
              "<style scoped>\n",
              "    .dataframe tbody tr th:only-of-type {\n",
              "        vertical-align: middle;\n",
              "    }\n",
              "\n",
              "    .dataframe tbody tr th {\n",
              "        vertical-align: top;\n",
              "    }\n",
              "\n",
              "    .dataframe thead th {\n",
              "        text-align: right;\n",
              "    }\n",
              "</style>\n",
              "<table border=\"1\" class=\"dataframe\">\n",
              "  <thead>\n",
              "    <tr style=\"text-align: right;\">\n",
              "      <th></th>\n",
              "      <th>24</th>\n",
              "      <th>48</th>\n",
              "      <th>96</th>\n",
              "      <th>120</th>\n",
              "      <th>168</th>\n",
              "    </tr>\n",
              "  </thead>\n",
              "  <tbody>\n",
              "    <tr>\n",
              "      <th>norm</th>\n",
              "      <td>[[[[0.0405426], [0.0703876], [0.24437022], [0....</td>\n",
              "      <td>[[[[-0.03582752], [-0.02180314], [0.05204654],...</td>\n",
              "      <td>[[[[-0.00047421], [0.09481859], [0.19006634], ...</td>\n",
              "      <td>[[[[-0.05557466], [-0.00856727], [0.04173517],...</td>\n",
              "      <td>[[[[-0.05636856], [0.00884247], [0.05408931], ...</td>\n",
              "    </tr>\n",
              "    <tr>\n",
              "      <th>raw</th>\n",
              "      <td>[[[[0.8428376], [0.8563077], [0.9348322], [0.9...</td>\n",
              "      <td>[[[[0.80836904], [0.81469876], [0.84802973], [...</td>\n",
              "      <td>[[[[0.82432526], [0.86733425], [0.91032296], [...</td>\n",
              "      <td>[[[[0.7994565], [0.8206726], [0.84337586], [0....</td>\n",
              "      <td>[[[[0.79909813], [0.8285302], [0.8489517], [0....</td>\n",
              "    </tr>\n",
              "    <tr>\n",
              "      <th>norm_gt</th>\n",
              "      <td>[[[[0.08223983], [0.15032339], [0.21431603], [...</td>\n",
              "      <td>[[[[0.08223983], [0.15032339], [0.21431603], [...</td>\n",
              "      <td>[[[[0.08223983], [0.15032339], [0.21431603], [...</td>\n",
              "      <td>[[[[0.08223983], [0.15032339], [0.21431603], [...</td>\n",
              "      <td>[[[[0.08223983], [0.15032339], [0.21431603], [...</td>\n",
              "    </tr>\n",
              "    <tr>\n",
              "      <th>raw_gt</th>\n",
              "      <td>[[[[0.86165702], [0.89238554], [0.92126769], [...</td>\n",
              "      <td>[[[[0.86165702], [0.89238554], [0.92126769], [...</td>\n",
              "      <td>[[[[0.86165702], [0.89238554], [0.92126769], [...</td>\n",
              "      <td>[[[[0.86165702], [0.89238554], [0.92126769], [...</td>\n",
              "      <td>[[[[0.86165702], [0.89238554], [0.92126769], [...</td>\n",
              "    </tr>\n",
              "  </tbody>\n",
              "</table>\n",
              "</div>\n",
              "      <button class=\"colab-df-convert\" onclick=\"convertToInteractive('df-eda76e16-5961-4db8-81c3-87b97959daae')\"\n",
              "              title=\"Convert this dataframe to an interactive table.\"\n",
              "              style=\"display:none;\">\n",
              "        \n",
              "  <svg xmlns=\"http://www.w3.org/2000/svg\" height=\"24px\"viewBox=\"0 0 24 24\"\n",
              "       width=\"24px\">\n",
              "    <path d=\"M0 0h24v24H0V0z\" fill=\"none\"/>\n",
              "    <path d=\"M18.56 5.44l.94 2.06.94-2.06 2.06-.94-2.06-.94-.94-2.06-.94 2.06-2.06.94zm-11 1L8.5 8.5l.94-2.06 2.06-.94-2.06-.94L8.5 2.5l-.94 2.06-2.06.94zm10 10l.94 2.06.94-2.06 2.06-.94-2.06-.94-.94-2.06-.94 2.06-2.06.94z\"/><path d=\"M17.41 7.96l-1.37-1.37c-.4-.4-.92-.59-1.43-.59-.52 0-1.04.2-1.43.59L10.3 9.45l-7.72 7.72c-.78.78-.78 2.05 0 2.83L4 21.41c.39.39.9.59 1.41.59.51 0 1.02-.2 1.41-.59l7.78-7.78 2.81-2.81c.8-.78.8-2.07 0-2.86zM5.41 20L4 18.59l7.72-7.72 1.47 1.35L5.41 20z\"/>\n",
              "  </svg>\n",
              "      </button>\n",
              "      \n",
              "  <style>\n",
              "    .colab-df-container {\n",
              "      display:flex;\n",
              "      flex-wrap:wrap;\n",
              "      gap: 12px;\n",
              "    }\n",
              "\n",
              "    .colab-df-convert {\n",
              "      background-color: #E8F0FE;\n",
              "      border: none;\n",
              "      border-radius: 50%;\n",
              "      cursor: pointer;\n",
              "      display: none;\n",
              "      fill: #1967D2;\n",
              "      height: 32px;\n",
              "      padding: 0 0 0 0;\n",
              "      width: 32px;\n",
              "    }\n",
              "\n",
              "    .colab-df-convert:hover {\n",
              "      background-color: #E2EBFA;\n",
              "      box-shadow: 0px 1px 2px rgba(60, 64, 67, 0.3), 0px 1px 3px 1px rgba(60, 64, 67, 0.15);\n",
              "      fill: #174EA6;\n",
              "    }\n",
              "\n",
              "    [theme=dark] .colab-df-convert {\n",
              "      background-color: #3B4455;\n",
              "      fill: #D2E3FC;\n",
              "    }\n",
              "\n",
              "    [theme=dark] .colab-df-convert:hover {\n",
              "      background-color: #434B5C;\n",
              "      box-shadow: 0px 1px 3px 1px rgba(0, 0, 0, 0.15);\n",
              "      filter: drop-shadow(0px 1px 2px rgba(0, 0, 0, 0.3));\n",
              "      fill: #FFFFFF;\n",
              "    }\n",
              "  </style>\n",
              "\n",
              "      <script>\n",
              "        const buttonEl =\n",
              "          document.querySelector('#df-eda76e16-5961-4db8-81c3-87b97959daae button.colab-df-convert');\n",
              "        buttonEl.style.display =\n",
              "          google.colab.kernel.accessAllowed ? 'block' : 'none';\n",
              "\n",
              "        async function convertToInteractive(key) {\n",
              "          const element = document.querySelector('#df-eda76e16-5961-4db8-81c3-87b97959daae');\n",
              "          const dataTable =\n",
              "            await google.colab.kernel.invokeFunction('convertToInteractive',\n",
              "                                                     [key], {});\n",
              "          if (!dataTable) return;\n",
              "\n",
              "          const docLinkHtml = 'Like what you see? Visit the ' +\n",
              "            '<a target=\"_blank\" href=https://colab.research.google.com/notebooks/data_table.ipynb>data table notebook</a>'\n",
              "            + ' to learn more about interactive tables.';\n",
              "          element.innerHTML = '';\n",
              "          dataTable['output_type'] = 'display_data';\n",
              "          await google.colab.output.renderOutput(dataTable, element);\n",
              "          const docLink = document.createElement('div');\n",
              "          docLink.innerHTML = docLinkHtml;\n",
              "          element.appendChild(docLink);\n",
              "        }\n",
              "      </script>\n",
              "    </div>\n",
              "  </div>\n",
              "  "
            ]
          },
          "metadata": {},
          "execution_count": 9
        }
      ]
    },
    {
      "cell_type": "markdown",
      "source": [
        "### **6. Plotting the prediction**"
      ],
      "metadata": {
        "id": "n9s4jdSFLUSP"
      }
    },
    {
      "cell_type": "code",
      "source": [
        "pred = df1[96]['raw'] #Any horizon value(i.e 24,48,120,168) can be chosen instead of 96"
      ],
      "metadata": {
        "id": "F6mGkb52oTGs"
      },
      "execution_count": null,
      "outputs": []
    },
    {
      "cell_type": "code",
      "source": [
        "p1 = pred[:,:,0] #First sequence prediction\n",
        "p1 = p1.reshape(pred.shape[1]) \n",
        "p2 = pred[:,:,-1] #Last sequence prediction\n",
        "p2 = p2.reshape(pred.shape[1]) "
      ],
      "metadata": {
        "id": "DBLpAGRLpMlG"
      },
      "execution_count": null,
      "outputs": []
    },
    {
      "cell_type": "code",
      "source": [
        "gnd_truth = df1[96]['raw_gt']"
      ],
      "metadata": {
        "id": "MisOZuKwWzIy"
      },
      "execution_count": null,
      "outputs": []
    },
    {
      "cell_type": "code",
      "source": [
        "g1 = gnd_truth[:,:,0] #First sequence ground truth\n",
        "g1 = g1.reshape(gnd_truth.shape[1]) \n",
        "g2 = gnd_truth[:,:,-1] #Last sequence ground truth\n",
        "g2 = g2.reshape(gnd_truth.shape[1]) "
      ],
      "metadata": {
        "id": "l86md1QNXKmS"
      },
      "execution_count": null,
      "outputs": []
    },
    {
      "cell_type": "code",
      "source": [
        "# First sequence prediction v/s ground truth\n",
        "\n",
        "import matplotlib.pyplot as plt\n",
        "import numpy as np\n",
        "\n",
        "plt.plot(p1,label = 'Prediction')\n",
        "plt.plot(g1,label = 'Ground Truth')\n",
        "plt.yticks(np.arange(0,3)) # can be altered to fit the plot\n",
        "plt.xlabel('Index')\n",
        "plt.ylabel('Voltage (V)') # can be altered as per the parameter considered\n",
        "plt.legend()\n",
        "plt.savefig('File_name.pdf')"
      ],
      "metadata": {
        "colab": {
          "base_uri": "https://localhost:8080/",
          "height": 283
        },
        "id": "FPyxh241rB3K",
        "outputId": "ccfe9bb0-d9fd-44e1-e627-90ef8d0282a5"
      },
      "execution_count": null,
      "outputs": [
        {
          "output_type": "display_data",
          "data": {
            "text/plain": [
              "<Figure size 432x288 with 1 Axes>"
            ],
            "image/png": "[encoded data removed]"
          },
          "metadata": {
            "needs_background": "light"
          }
        }
      ]
    },
    {
      "cell_type": "code",
      "source": [
        "# Last sequence prediction v/s ground truth\n",
        "\n",
        "import matplotlib.pyplot as plt\n",
        "import numpy as np\n",
        "\n",
        "plt.plot(p2,label = 'Prediction')\n",
        "plt.plot(g2,label = 'Ground Truth')\n",
        "plt.yticks(np.arange(0,3)) # can be altered to fit the plot\n",
        "plt.xlabel('Index')\n",
        "plt.ylabel('Voltage (V)') # can be altered as per the parameter considered\n",
        "plt.legend()\n",
        "plt.savefig('File_name.pdf')"
      ],
      "metadata": {
        "colab": {
          "base_uri": "https://localhost:8080/",
          "height": 300
        },
        "id": "8ipK8jlwyRJk",
        "outputId": "b85e2135-66be-4d62-a684-82cf80e89296"
      },
      "execution_count": null,
      "outputs": [
        {
          "output_type": "execute_result",
          "data": {
            "text/plain": [
              "<matplotlib.legend.Legend at 0x7f734a90e150>"
            ]
          },
          "metadata": {},
          "execution_count": 20
        },
        {
          "output_type": "display_data",
          "data": {
            "text/plain": [
              "<Figure size 432x288 with 1 Axes>"
            ],
            "image/png": "[encoded data removed]"
          },
          "metadata": {
            "needs_background": "light"
          }
        }
      ]
    },
    {
      "cell_type": "markdown",
      "source": [
        "##### To obtain the path where the prediction plots are saved in drive run the codeline below"
      ],
      "metadata": {
        "id": "3nvwFgk2hZTw"
      }
    },
    {
      "cell_type": "code",
      "source": [
        "pwd"
      ],
      "metadata": {
        "colab": {
          "base_uri": "https://localhost:8080/",
          "height": 35
        },
        "id": "eyMoYAlyX3Eh",
        "outputId": "39f98bfa-5db4-4e87-c5f9-aa7094ec7a17"
      },
      "execution_count": null,
      "outputs": [
        {
          "output_type": "execute_result",
          "data": {
            "text/plain": [
              "'/content/drive/MyDrive/ts2vec/ts2vec-main.zip (Unzipped Files)/ts2vec-main'"
            ],
            "application/vnd.google.colaboratory.intrinsic+json": {
              "type": "string"
            }
          },
          "metadata": {},
          "execution_count": 23
        }
      ]
    },
    {
      "cell_type": "markdown",
      "source": [
        "### **7. Obtainin the error values for the first prediction sequence for all horizons**"
      ],
      "metadata": {
        "id": "Q_Fet1W7aMq1"
      }
    },
    {
      "cell_type": "code",
      "source": [
        "for i in [24,48,96,120,168]: # List contains all the horizon values\n",
        "  pred = df1[i]['raw']\n",
        "  p1 = pred[:,:,0]\n",
        "  p1 = p1.reshape(pred.shape[1])\n",
        "  gnd_truth = df1[i]['raw_gt']\n",
        "  g1 = gnd_truth[:,:,0]\n",
        "  g1 = g1.reshape(gnd_truth.shape[1])\n",
        "  print('Horizon: ',i)\n",
        "  print('mse: ',((p1 - g1) ** 2).mean())\n",
        "  print('mae: ', np.abs(p1 - g1).mean())\n",
        "  print('-------------------------------')"
      ],
      "metadata": {
        "colab": {
          "base_uri": "https://localhost:8080/"
        },
        "id": "yixtL2XZhtxP",
        "outputId": "de1c3e64-51fe-4aa1-b113-d300d74ab463"
      },
      "execution_count": null,
      "outputs": [
        {
          "output_type": "stream",
          "name": "stdout",
          "text": [
            "Horizon:  24\n",
            "mse:  0.032028991372475696\n",
            "mae:  0.08517073931117823\n",
            "-------------------------------\n",
            "Horizon:  48\n",
            "mse:  0.033725828155372985\n",
            "mae:  0.11097743506518493\n",
            "-------------------------------\n",
            "Horizon:  96\n",
            "mse:  0.029754756224750437\n",
            "mae:  0.089244672073301\n",
            "-------------------------------\n",
            "Horizon:  120\n",
            "mse:  0.03564887061153775\n",
            "mae:  0.11927310918056726\n",
            "-------------------------------\n",
            "Horizon:  168\n",
            "mse:  0.030247694779554548\n",
            "mae:  0.09446830673862044\n",
            "-------------------------------\n"
          ]
        }
      ]
    },
    {
      "cell_type": "markdown",
      "source": [
        "### **8. Plotting the error values**"
      ],
      "metadata": {
        "id": "ej4kvox1nqdY"
      }
    },
    {
      "cell_type": "code",
      "source": [
        "# The error values are take according to the values obtained above\n",
        "horizon = [24,48,96,120,168]\n",
        "mse = [0.032028991372475696,0.033725828155372985,0.029754756224750437,0.03564887061153775,0.030247694779554548]\n",
        "mae = [0.08517073931117823,0.11097743506518493,0.089244672073301,0.11927310918056726,0.09446830673862044]"
      ],
      "metadata": {
        "id": "riPTGw9ynn3O"
      },
      "execution_count": null,
      "outputs": []
    },
    {
      "cell_type": "code",
      "source": [
        "import matplotlib.pyplot as plt\n",
        "import numpy as np\n",
        "\n",
        "plt.plot(horizon,mse,marker = \"o\",label = \"mse\")\n",
        "plt.plot(horizon,mae,marker = \"X\",label = \"mae\")\n",
        "plt.xticks([24,48,96,120,168])\n",
        "plt.xlabel('Horizon')\n",
        "plt.ylabel('Horizon Values')\n",
        "plt.legend()\n",
        "plt.savefig('File_name.pdf',bbox_inches='tight')"
      ],
      "metadata": {
        "colab": {
          "base_uri": "https://localhost:8080/",
          "height": 296
        },
        "id": "qGGlKSIIos7x",
        "outputId": "3d424536-a0d9-4cac-9747-85c56cde01f0"
      },
      "execution_count": null,
      "outputs": [
        {
          "output_type": "execute_result",
          "data": {
            "text/plain": [
              "<matplotlib.legend.Legend at 0x7f7345c11d90>"
            ]
          },
          "metadata": {},
          "execution_count": 30
        },
        {
          "output_type": "display_data",
          "data": {
            "text/plain": [
              "<Figure size 432x288 with 1 Axes>"
            ],
            "image/png": "[encoded data removed]"
          },
          "metadata": {
            "needs_background": "light"
          }
        }
      ]
    }
  ]
}